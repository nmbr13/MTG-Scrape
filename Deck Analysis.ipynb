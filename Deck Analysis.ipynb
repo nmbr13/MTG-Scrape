{
 "cells": [
  {
   "cell_type": "code",
   "execution_count": 114,
   "metadata": {},
   "outputs": [],
   "source": [
    "import pandas as pd\n",
    "import matplotlib.pyplot as plt\n",
    "import seaborn as sns"
   ]
  },
  {
   "cell_type": "code",
   "execution_count": 115,
   "metadata": {},
   "outputs": [],
   "source": [
    "df = pd.read_csv('combo_decks.csv')\n",
    "df = df.drop(df.keys()[0],axis=1)\n",
    "df = df.drop(df.keys()[5],axis=1)"
   ]
  },
  {
   "cell_type": "code",
   "execution_count": 116,
   "metadata": {},
   "outputs": [
    {
     "data": {
      "text/html": [
       "<div>\n",
       "<style scoped>\n",
       "    .dataframe tbody tr th:only-of-type {\n",
       "        vertical-align: middle;\n",
       "    }\n",
       "\n",
       "    .dataframe tbody tr th {\n",
       "        vertical-align: top;\n",
       "    }\n",
       "\n",
       "    .dataframe thead th {\n",
       "        text-align: right;\n",
       "    }\n",
       "</style>\n",
       "<table border=\"1\" class=\"dataframe\">\n",
       "  <thead>\n",
       "    <tr style=\"text-align: right;\">\n",
       "      <th></th>\n",
       "      <th>Deck Name</th>\n",
       "      <th>URL</th>\n",
       "      <th>Player</th>\n",
       "      <th>Card Kingdom</th>\n",
       "      <th>TCG Player</th>\n",
       "      <th>Cardhoarder</th>\n",
       "      <th>Format</th>\n",
       "      <th>Avg. Card Price</th>\n",
       "    </tr>\n",
       "  </thead>\n",
       "  <tbody>\n",
       "    <tr>\n",
       "      <th>0</th>\n",
       "      <td>Burn</td>\n",
       "      <td>http://www.mtgtop8.com/event?e=27387&amp;d=417216&amp;...</td>\n",
       "      <td>Mamada Chikashi</td>\n",
       "      <td>540</td>\n",
       "      <td>786</td>\n",
       "      <td>137</td>\n",
       "      <td>MO</td>\n",
       "      <td>15.550000</td>\n",
       "    </tr>\n",
       "    <tr>\n",
       "      <th>1</th>\n",
       "      <td>Burn</td>\n",
       "      <td>http://www.mtgtop8.com/event?e=27387&amp;d=417221&amp;...</td>\n",
       "      <td>Machida Ryuutarou</td>\n",
       "      <td>463</td>\n",
       "      <td>765</td>\n",
       "      <td>164</td>\n",
       "      <td>MO</td>\n",
       "      <td>14.091667</td>\n",
       "    </tr>\n",
       "    <tr>\n",
       "      <th>2</th>\n",
       "      <td>RDW</td>\n",
       "      <td>http://www.mtgtop8.com/event?e=27352&amp;d=416893&amp;...</td>\n",
       "      <td>Frontuto Daniele</td>\n",
       "      <td>454</td>\n",
       "      <td>828</td>\n",
       "      <td>165</td>\n",
       "      <td>MO</td>\n",
       "      <td>14.466667</td>\n",
       "    </tr>\n",
       "    <tr>\n",
       "      <th>3</th>\n",
       "      <td>Red Deck Wins</td>\n",
       "      <td>http://www.mtgtop8.com/event?e=27330&amp;d=416574&amp;...</td>\n",
       "      <td>pootisgodsamongus</td>\n",
       "      <td>247</td>\n",
       "      <td>600</td>\n",
       "      <td>318</td>\n",
       "      <td>MO</td>\n",
       "      <td>9.116667</td>\n",
       "    </tr>\n",
       "    <tr>\n",
       "      <th>4</th>\n",
       "      <td>Red Deck Wins</td>\n",
       "      <td>http://www.mtgtop8.com/event?e=27192&amp;d=413945&amp;...</td>\n",
       "      <td>Stan Golovchuk</td>\n",
       "      <td>236</td>\n",
       "      <td>585</td>\n",
       "      <td>310</td>\n",
       "      <td>MO</td>\n",
       "      <td>8.808333</td>\n",
       "    </tr>\n",
       "  </tbody>\n",
       "</table>\n",
       "</div>"
      ],
      "text/plain": [
       "       Deck Name                                                URL  \\\n",
       "0           Burn  http://www.mtgtop8.com/event?e=27387&d=417216&...   \n",
       "1           Burn  http://www.mtgtop8.com/event?e=27387&d=417221&...   \n",
       "2            RDW  http://www.mtgtop8.com/event?e=27352&d=416893&...   \n",
       "3  Red Deck Wins  http://www.mtgtop8.com/event?e=27330&d=416574&...   \n",
       "4  Red Deck Wins  http://www.mtgtop8.com/event?e=27192&d=413945&...   \n",
       "\n",
       "              Player  Card Kingdom  TCG Player  Cardhoarder Format  \\\n",
       "0    Mamada Chikashi           540         786          137     MO   \n",
       "1  Machida Ryuutarou           463         765          164     MO   \n",
       "2   Frontuto Daniele           454         828          165     MO   \n",
       "3  pootisgodsamongus           247         600          318     MO   \n",
       "4     Stan Golovchuk           236         585          310     MO   \n",
       "\n",
       "   Avg. Card Price  \n",
       "0        15.550000  \n",
       "1        14.091667  \n",
       "2        14.466667  \n",
       "3         9.116667  \n",
       "4         8.808333  "
      ]
     },
     "execution_count": 116,
     "metadata": {},
     "output_type": "execute_result"
    }
   ],
   "source": [
    "df.head()"
   ]
  },
  {
   "cell_type": "code",
   "execution_count": 117,
   "metadata": {},
   "outputs": [
    {
     "data": {
      "text/html": [
       "<div>\n",
       "<style scoped>\n",
       "    .dataframe tbody tr th:only-of-type {\n",
       "        vertical-align: middle;\n",
       "    }\n",
       "\n",
       "    .dataframe tbody tr th {\n",
       "        vertical-align: top;\n",
       "    }\n",
       "\n",
       "    .dataframe thead th {\n",
       "        text-align: right;\n",
       "    }\n",
       "</style>\n",
       "<table border=\"1\" class=\"dataframe\">\n",
       "  <thead>\n",
       "    <tr style=\"text-align: right;\">\n",
       "      <th></th>\n",
       "      <th>Card Kingdom</th>\n",
       "      <th>TCG Player</th>\n",
       "      <th>Cardhoarder</th>\n",
       "      <th>Avg. Card Price</th>\n",
       "    </tr>\n",
       "    <tr>\n",
       "      <th>Format</th>\n",
       "      <th></th>\n",
       "      <th></th>\n",
       "      <th></th>\n",
       "      <th></th>\n",
       "    </tr>\n",
       "  </thead>\n",
       "  <tbody>\n",
       "    <tr>\n",
       "      <th>EDH</th>\n",
       "      <td>2230.974729</td>\n",
       "      <td>6214.227437</td>\n",
       "      <td>222.599278</td>\n",
       "      <td>53.380884</td>\n",
       "    </tr>\n",
       "    <tr>\n",
       "      <th>MO</th>\n",
       "      <td>745.970213</td>\n",
       "      <td>986.240426</td>\n",
       "      <td>305.968085</td>\n",
       "      <td>20.651507</td>\n",
       "    </tr>\n",
       "    <tr>\n",
       "      <th>PAU</th>\n",
       "      <td>96.864078</td>\n",
       "      <td>335.097087</td>\n",
       "      <td>43.674757</td>\n",
       "      <td>4.406877</td>\n",
       "    </tr>\n",
       "    <tr>\n",
       "      <th>PI</th>\n",
       "      <td>385.069307</td>\n",
       "      <td>406.544554</td>\n",
       "      <td>168.970297</td>\n",
       "      <td>9.805693</td>\n",
       "    </tr>\n",
       "    <tr>\n",
       "      <th>ST</th>\n",
       "      <td>293.769596</td>\n",
       "      <td>305.548694</td>\n",
       "      <td>143.581948</td>\n",
       "      <td>7.442399</td>\n",
       "    </tr>\n",
       "  </tbody>\n",
       "</table>\n",
       "</div>"
      ],
      "text/plain": [
       "        Card Kingdom   TCG Player  Cardhoarder  Avg. Card Price\n",
       "Format                                                         \n",
       "EDH      2230.974729  6214.227437   222.599278        53.380884\n",
       "MO        745.970213   986.240426   305.968085        20.651507\n",
       "PAU        96.864078   335.097087    43.674757         4.406877\n",
       "PI        385.069307   406.544554   168.970297         9.805693\n",
       "ST        293.769596   305.548694   143.581948         7.442399"
      ]
     },
     "execution_count": 117,
     "metadata": {},
     "output_type": "execute_result"
    }
   ],
   "source": [
    "df.groupby('Format').mean()"
   ]
  },
  {
   "cell_type": "code",
   "execution_count": 142,
   "metadata": {},
   "outputs": [
    {
     "data": {
      "text/plain": [
       "Deck Name                                                       Burn\n",
       "URL                http://www.mtgtop8.com/event?e=27387&d=417216&...\n",
       "Player                                               Mamada Chikashi\n",
       "Card Kingdom                                                     540\n",
       "TCG Player                                                       786\n",
       "Cardhoarder                                                      137\n",
       "Format                                                            MO\n",
       "Avg. Card Price                                                15.55\n",
       "Name: 0, dtype: object"
      ]
     },
     "execution_count": 142,
     "metadata": {},
     "output_type": "execute_result"
    }
   ],
   "source": [
    "df.iloc[0]"
   ]
  },
  {
   "cell_type": "code",
   "execution_count": 145,
   "metadata": {},
   "outputs": [
    {
     "name": "stdout",
     "output_type": "stream",
     "text": [
      "http://www.mtgtop8.com/event?e=27352&d=416893&f=MO Blackcleave Cliffs\n",
      "http://www.mtgtop8.com/event?e=27352&d=416893&f=MO Blood Crypt\n",
      "http://www.mtgtop8.com/event?e=27352&d=416893&f=MO Bloodstained Mire\n",
      "http://www.mtgtop8.com/event?e=27352&d=416893&f=MO Mountain\n",
      "http://www.mtgtop8.com/event?e=27352&d=416893&f=MO Sacred Foundry\n",
      "http://www.mtgtop8.com/event?e=27352&d=416893&f=MO Sunbaked Canyon\n",
      "http://www.mtgtop8.com/event?e=27352&d=416893&f=MO Wooded Foothills\n",
      "http://www.mtgtop8.com/event?e=27352&d=416893&f=MO Abbot of Keral Keep\n",
      "http://www.mtgtop8.com/event?e=27352&d=416893&f=MO Blistercoil Weird\n",
      "http://www.mtgtop8.com/event?e=27352&d=416893&f=MO Kiln Fiend\n",
      "http://www.mtgtop8.com/event?e=27352&d=416893&f=MO Monastery Swiftspear\n",
      "http://www.mtgtop8.com/event?e=27352&d=416893&f=MO Soul-Scar Mage\n",
      "http://www.mtgtop8.com/event?e=27352&d=416893&f=MO Lava Dart\n",
      "http://www.mtgtop8.com/event?e=27352&d=416893&f=MO Light Up the Stage\n",
      "http://www.mtgtop8.com/event?e=27352&d=416893&f=MO Lightning Bolt\n",
      "http://www.mtgtop8.com/event?e=27352&d=416893&f=MO Manamorphose\n",
      "http://www.mtgtop8.com/event?e=27352&d=416893&f=MO Mutagenic Growth\n",
      "http://www.mtgtop8.com/event?e=27352&d=416893&f=MO Temur Battle Rage\n",
      "http://www.mtgtop8.com/event?e=27352&d=416893&f=MO Thoughtseize\n",
      "http://www.mtgtop8.com/event?e=27352&d=416893&f=MO Lurrus of the Dream-Den\n",
      "http://www.mtgtop8.com/event?e=27352&d=416893&f=MO Fatal Push\n",
      "http://www.mtgtop8.com/event?e=27352&d=416893&f=MO Molten Rain\n",
      "http://www.mtgtop8.com/event?e=27352&d=416893&f=MO Nihil Spellbomb\n",
      "http://www.mtgtop8.com/event?e=27352&d=416893&f=MO Unearth\n",
      "http://www.mtgtop8.com/event?e=27352&d=416893&f=MO Wear / Tear\n",
      "http://www.mtgtop8.com/event?e=27330&d=416574&f=MO Fiery Islet\n",
      "http://www.mtgtop8.com/event?e=27330&d=416574&f=MO Mountain\n",
      "http://www.mtgtop8.com/event?e=27330&d=416574&f=MO Sunbaked Canyon\n",
      "http://www.mtgtop8.com/event?e=27330&d=416574&f=MO Blistercoil Weird\n",
      "http://www.mtgtop8.com/event?e=27330&d=416574&f=MO Bonecrusher Giant\n",
      "http://www.mtgtop8.com/event?e=27330&d=416574&f=MO Monastery Swiftspear\n",
      "http://www.mtgtop8.com/event?e=27330&d=416574&f=MO Seasoned Pyromancer\n",
      "http://www.mtgtop8.com/event?e=27330&d=416574&f=MO Soul-Scar Mage\n",
      "http://www.mtgtop8.com/event?e=27330&d=416574&f=MO Firebolt\n",
      "http://www.mtgtop8.com/event?e=27330&d=416574&f=MO Flame Slash\n",
      "http://www.mtgtop8.com/event?e=27330&d=416574&f=MO Lava Dart\n",
      "http://www.mtgtop8.com/event?e=27330&d=416574&f=MO Light Up the Stage\n",
      "http://www.mtgtop8.com/event?e=27330&d=416574&f=MO Lightning Bolt\n",
      "http://www.mtgtop8.com/event?e=27330&d=416574&f=MO Obosh, the Preypiercer\n",
      "http://www.mtgtop8.com/event?e=27330&d=416574&f=MO Blood Moon\n",
      "http://www.mtgtop8.com/event?e=27330&d=416574&f=MO Kozilek's Return\n",
      "http://www.mtgtop8.com/event?e=27330&d=416574&f=MO Relic of Progenitus\n",
      "http://www.mtgtop8.com/event?e=27330&d=416574&f=MO Shattering Spree\n"
     ]
    }
   ],
   "source": [
    "from bs4 import BeautifulSoup as bs\n",
    "import requests\n",
    "\n",
    "for each in range(len(df)):\n",
    "    df.iloc[each]['URL']\n",
    "    \n",
    "for each in df.URL[2:4]:\n",
    "    url = each\n",
    "    page = requests.get(url)\n",
    "    soup = bs(page.content, 'html.parser')\n",
    "    mydivs = soup.findAll(\"span\", {\"class\": \"L14\"})  \n",
    "    for spans in mydivs:\n",
    "        print(each, spans.text)\n",
    "        \n",
    "#         l = link.get('href')\n",
    "#         if 'archetype' in l:\n",
    "#             archetypes_URL.append('http://www.mtgtop8.com/' + link.get('href'))\n",
    "#             archetype_Names.append(link.text)\n",
    "#     len(archetypes_URL)"
   ]
  },
  {
   "cell_type": "code",
   "execution_count": 118,
   "metadata": {},
   "outputs": [
    {
     "data": {
      "text/plain": [
       "<AxesSubplot:>"
      ]
     },
     "execution_count": 118,
     "metadata": {},
     "output_type": "execute_result"
    },
    {
     "data": {
      "image/png": "[encoded data removed]",
      "text/plain": [
       "<Figure size 1080x595.44 with 1 Axes>"
      ]
     },
     "metadata": {},
     "output_type": "display_data"
    }
   ],
   "source": [
    "sns.barplot(data = df.describe())"
   ]
  },
  {
   "cell_type": "code",
   "execution_count": null,
   "metadata": {},
   "outputs": [],
   "source": []
  }
 ],
 "metadata": {
  "kernelspec": {
   "display_name": "Python 3",
   "language": "python",
   "name": "python3"
  },
  "language_info": {
   "codemirror_mode": {
    "name": "ipython",
    "version": 3
   },
   "file_extension": ".py",
   "mimetype": "text/x-python",
   "name": "python",
   "nbconvert_exporter": "python",
   "pygments_lexer": "ipython3",
   "version": "3.6.9"
  }
 },
 "nbformat": 4,
 "nbformat_minor": 4
}
