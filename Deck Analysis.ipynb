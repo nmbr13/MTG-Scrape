{
 "cells": [
  {
   "cell_type": "code",
   "execution_count": 32,
   "metadata": {},
   "outputs": [],
   "source": [
    "import pandas as pd\n",
    "import matplotlib.pyplot as plt\n",
    "import seaborn as sns"
   ]
  },
  {
   "cell_type": "code",
   "execution_count": 96,
   "metadata": {},
   "outputs": [],
   "source": [
    "df = pd.read_csv('combo_decks.csv')\n",
    "df = df.drop(df.keys()[0],axis=1)\n",
    "df = df.drop(df.keys()[5],axis=1)"
   ]
  },
  {
   "cell_type": "code",
   "execution_count": 106,
   "metadata": {},
   "outputs": [
    {
     "data": {
      "text/html": [
       "<div>\n",
       "<style scoped>\n",
       "    .dataframe tbody tr th:only-of-type {\n",
       "        vertical-align: middle;\n",
       "    }\n",
       "\n",
       "    .dataframe tbody tr th {\n",
       "        vertical-align: top;\n",
       "    }\n",
       "\n",
       "    .dataframe thead th {\n",
       "        text-align: right;\n",
       "    }\n",
       "</style>\n",
       "<table border=\"1\" class=\"dataframe\">\n",
       "  <thead>\n",
       "    <tr style=\"text-align: right;\">\n",
       "      <th></th>\n",
       "      <th>Deck Name</th>\n",
       "      <th>URL</th>\n",
       "      <th>Player</th>\n",
       "      <th>Card Kingdom</th>\n",
       "      <th>TCG Player</th>\n",
       "      <th>Cardhoarder</th>\n",
       "      <th>Format</th>\n",
       "    </tr>\n",
       "  </thead>\n",
       "  <tbody>\n",
       "    <tr>\n",
       "      <th>0</th>\n",
       "      <td>Red Deck Wins</td>\n",
       "      <td>http://www.mtgtop8.com/event?e=27192&amp;d=413945&amp;...</td>\n",
       "      <td>Stan Golovchuk</td>\n",
       "      <td>239</td>\n",
       "      <td>579</td>\n",
       "      <td>320</td>\n",
       "      <td>MO</td>\n",
       "    </tr>\n",
       "    <tr>\n",
       "      <th>1</th>\n",
       "      <td>Red Deck Wins</td>\n",
       "      <td>http://www.mtgtop8.com/event?e=27330&amp;d=416574&amp;...</td>\n",
       "      <td>pootisgodsamongus</td>\n",
       "      <td>249</td>\n",
       "      <td>595</td>\n",
       "      <td>328</td>\n",
       "      <td>MO</td>\n",
       "    </tr>\n",
       "    <tr>\n",
       "      <th>2</th>\n",
       "      <td>RDW</td>\n",
       "      <td>http://www.mtgtop8.com/event?e=27352&amp;d=416893&amp;...</td>\n",
       "      <td>Frontuto Daniele</td>\n",
       "      <td>455</td>\n",
       "      <td>836</td>\n",
       "      <td>164</td>\n",
       "      <td>MO</td>\n",
       "    </tr>\n",
       "    <tr>\n",
       "      <th>3</th>\n",
       "      <td>Red Deck Wins</td>\n",
       "      <td>http://www.mtgtop8.com/event?e=27209&amp;d=414098&amp;...</td>\n",
       "      <td>The_nayr</td>\n",
       "      <td>261</td>\n",
       "      <td>608</td>\n",
       "      <td>340</td>\n",
       "      <td>MO</td>\n",
       "    </tr>\n",
       "    <tr>\n",
       "      <th>4</th>\n",
       "      <td>Burn</td>\n",
       "      <td>http://www.mtgtop8.com/event?e=27247&amp;d=414470&amp;...</td>\n",
       "      <td>Inui Hayato</td>\n",
       "      <td>384</td>\n",
       "      <td>760</td>\n",
       "      <td>177</td>\n",
       "      <td>MO</td>\n",
       "    </tr>\n",
       "  </tbody>\n",
       "</table>\n",
       "</div>"
      ],
      "text/plain": [
       "       Deck Name                                                URL  \\\n",
       "0  Red Deck Wins  http://www.mtgtop8.com/event?e=27192&d=413945&...   \n",
       "1  Red Deck Wins  http://www.mtgtop8.com/event?e=27330&d=416574&...   \n",
       "2            RDW  http://www.mtgtop8.com/event?e=27352&d=416893&...   \n",
       "3  Red Deck Wins  http://www.mtgtop8.com/event?e=27209&d=414098&...   \n",
       "4           Burn  http://www.mtgtop8.com/event?e=27247&d=414470&...   \n",
       "\n",
       "              Player  Card Kingdom  TCG Player  Cardhoarder Format  \n",
       "0     Stan Golovchuk           239         579          320     MO  \n",
       "1  pootisgodsamongus           249         595          328     MO  \n",
       "2   Frontuto Daniele           455         836          164     MO  \n",
       "3           The_nayr           261         608          340     MO  \n",
       "4        Inui Hayato           384         760          177     MO  "
      ]
     },
     "execution_count": 106,
     "metadata": {},
     "output_type": "execute_result"
    }
   ],
   "source": [
    "df.head()"
   ]
  },
  {
   "cell_type": "code",
   "execution_count": 97,
   "metadata": {},
   "outputs": [
    {
     "data": {
      "text/html": [
       "<div>\n",
       "<style scoped>\n",
       "    .dataframe tbody tr th:only-of-type {\n",
       "        vertical-align: middle;\n",
       "    }\n",
       "\n",
       "    .dataframe tbody tr th {\n",
       "        vertical-align: top;\n",
       "    }\n",
       "\n",
       "    .dataframe thead th {\n",
       "        text-align: right;\n",
       "    }\n",
       "</style>\n",
       "<table border=\"1\" class=\"dataframe\">\n",
       "  <thead>\n",
       "    <tr style=\"text-align: right;\">\n",
       "      <th></th>\n",
       "      <th>Card Kingdom</th>\n",
       "      <th>TCG Player</th>\n",
       "      <th>Cardhoarder</th>\n",
       "    </tr>\n",
       "    <tr>\n",
       "      <th>Format</th>\n",
       "      <th></th>\n",
       "      <th></th>\n",
       "      <th></th>\n",
       "    </tr>\n",
       "  </thead>\n",
       "  <tbody>\n",
       "    <tr>\n",
       "      <th>EDH</th>\n",
       "      <td>5518.804878</td>\n",
       "      <td>6237.052265</td>\n",
       "      <td>221.066202</td>\n",
       "    </tr>\n",
       "    <tr>\n",
       "      <th>MO</th>\n",
       "      <td>739.949367</td>\n",
       "      <td>993.713080</td>\n",
       "      <td>307.069620</td>\n",
       "    </tr>\n",
       "    <tr>\n",
       "      <th>PAU</th>\n",
       "      <td>57.547619</td>\n",
       "      <td>335.200000</td>\n",
       "      <td>41.500000</td>\n",
       "    </tr>\n",
       "    <tr>\n",
       "      <th>PI</th>\n",
       "      <td>368.493333</td>\n",
       "      <td>405.126667</td>\n",
       "      <td>166.466667</td>\n",
       "    </tr>\n",
       "    <tr>\n",
       "      <th>ST</th>\n",
       "      <td>298.742925</td>\n",
       "      <td>309.497642</td>\n",
       "      <td>147.252358</td>\n",
       "    </tr>\n",
       "  </tbody>\n",
       "</table>\n",
       "</div>"
      ],
      "text/plain": [
       "        Card Kingdom   TCG Player  Cardhoarder\n",
       "Format                                        \n",
       "EDH      5518.804878  6237.052265   221.066202\n",
       "MO        739.949367   993.713080   307.069620\n",
       "PAU        57.547619   335.200000    41.500000\n",
       "PI        368.493333   405.126667   166.466667\n",
       "ST        298.742925   309.497642   147.252358"
      ]
     },
     "execution_count": 97,
     "metadata": {},
     "output_type": "execute_result"
    }
   ],
   "source": [
    "df.groupby('Format').mean()"
   ]
  },
  {
   "cell_type": "code",
   "execution_count": 105,
   "metadata": {},
   "outputs": [
    {
     "data": {
      "text/plain": [
       "<AxesSubplot:>"
      ]
     },
     "execution_count": 105,
     "metadata": {},
     "output_type": "execute_result"
    },
    {
     "data": {
      "image/png": "[encoded data removed]",
      "text/plain": [
       "<Figure size 1080x595.44 with 1 Axes>"
      ]
     },
     "metadata": {},
     "output_type": "display_data"
    }
   ],
   "source": [
    "sns.barplot(data = df.describe())"
   ]
  },
  {
   "cell_type": "code",
   "execution_count": null,
   "metadata": {},
   "outputs": [],
   "source": []
  }
 ],
 "metadata": {
  "kernelspec": {
   "display_name": "Python 3",
   "language": "python",
   "name": "python3"
  },
  "language_info": {
   "codemirror_mode": {
    "name": "ipython",
    "version": 3
   },
   "file_extension": ".py",
   "mimetype": "text/x-python",
   "name": "python",
   "nbconvert_exporter": "python",
   "pygments_lexer": "ipython3",
   "version": "3.6.9"
  }
 },
 "nbformat": 4,
 "nbformat_minor": 4
}
