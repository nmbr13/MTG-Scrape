{
 "cells": [
  {
   "cell_type": "code",
   "execution_count": 117,
   "metadata": {
    "colab": {},
    "colab_type": "code",
    "id": "sMM9Q5-sfw98"
   },
   "outputs": [],
   "source": [
    "from bs4 import BeautifulSoup as bs\n",
    "import re\n",
    "import pandas as pd\n",
    "import networkx as nx\n",
    "import requests\n",
    "import json\n",
    "\n",
    "import os"
   ]
  },
  {
   "cell_type": "code",
   "execution_count": 118,
   "metadata": {},
   "outputs": [],
   "source": [
    "dfs = []"
   ]
  },
  {
   "cell_type": "code",
   "execution_count": 119,
   "metadata": {
    "colab": {
     "base_uri": "https://localhost:8080/",
     "height": 36
    },
    "colab_type": "code",
    "id": "gy-ad9UrUCxB",
    "outputId": "03500b1a-cfce-44e9-fcb4-362c0e933714"
   },
   "outputs": [],
   "source": [
    "def get_colors(r):\n",
    "  d = requests.get('http://api.scryfall.com/cards/named?fuzzy=' + str(r.replace(' ','+')))\n",
    "  j = json.loads(d.text)\n",
    "\n",
    "  if j['color_identity'] == []:\n",
    "    return('None')\n",
    "  else:\n",
    "    return(str(j['color_identity']))\n",
    " \n",
    "def get_deck_info(deck_url):\n",
    "  page = requests.get(deck_url)\n",
    "  soup = bs(page.content, 'lxml')  \n",
    "  title = soup.find(\"td\", attrs={'class':'S16'}).contents\n",
    "\n",
    "  deck_name = re.split(\"#\\d{1,2}(?:-\\d)*\",title[0])[1].split(\" - \")[0].strip()\n",
    "  player_name = title[1].text.strip()\n",
    "\n",
    "  # # Get Prices\n",
    "  prices = soup.find_all(\"span\", attrs={'class':'O14'})\n",
    "  price_breakout = [x.text for x in prices]\n",
    "  return([deck_name,deck_url, player_name,int(price_breakout[0]),int(price_breakout[1]),float(price_breakout[2]),int(price_breakout[3])])  \n",
    "\n",
    "def get_decks(list):\n",
    "    deck_list = []\n",
    "    for each in list:\n",
    "        url = each\n",
    "        page = requests.get(url)\n",
    "        soup = bs(page.content, 'html.parser')\n",
    "        links = soup.find_all('a')\n",
    "        for l in links:\n",
    "            q = l.get('href')\n",
    "            if '&d' in q:\n",
    "                deck_list.append('http://www.mtgtop8.com/' + q)\n",
    "    return deck_list\n",
    "\n",
    "def get_avg_price(price,f_mat):\n",
    "    ['MO','ST',\"PI\",'PAU',\"EDH\"]\n",
    "    if f_mat=='EDH':\n",
    "        return price/100\n",
    "    else:\n",
    "        return price/60"
   ]
  },
  {
   "cell_type": "code",
   "execution_count": 120,
   "metadata": {
    "colab": {
     "base_uri": "https://localhost:8080/",
     "height": 35
    },
    "colab_type": "code",
    "id": "LrgwUHmTgKDX",
    "outputId": "10cca771-993d-447f-9835-e6a635a85447"
   },
   "outputs": [
    {
     "data": {
      "text/plain": [
       "61"
      ]
     },
     "execution_count": 120,
     "metadata": {},
     "output_type": "execute_result"
    }
   ],
   "source": [
    "# Get Decks\n",
    "formats = ['MO','ST',\"PI\",'PAU',\"EDH\"]\n",
    "archetypes_URL = []\n",
    "archetype_Names = []\n",
    "format_name = formats[0]\n",
    "url = 'http://www.mtgtop8.com/format?f='+ format_name\n",
    "page = requests.get(url)\n",
    "soup = bs(page.content, 'html.parser')\n",
    "for link in soup.find_all('a'):\n",
    "    l = link.get('href')\n",
    "    if 'archetype' in l:\n",
    "        archetypes_URL.append('http://www.mtgtop8.com/' + link.get('href'))\n",
    "        archetype_Names.append(link.text)\n",
    "len(archetypes_URL)"
   ]
  },
  {
   "cell_type": "code",
   "execution_count": 121,
   "metadata": {
    "colab": {
     "base_uri": "https://localhost:8080/",
     "height": 35
    },
    "colab_type": "code",
    "id": "24J2OqWagRnD",
    "outputId": "c0001abf-dc43-494d-a89e-9a851173182b"
   },
   "outputs": [
    {
     "name": "stdout",
     "output_type": "stream",
     "text": [
      "470\n"
     ]
    }
   ],
   "source": [
    "# for each in archetypes_URL:\n",
    "deck_urls = get_decks(archetypes_URL)\n",
    "print(len(deck_urls))"
   ]
  },
  {
   "cell_type": "code",
   "execution_count": 122,
   "metadata": {
    "colab": {},
    "colab_type": "code",
    "id": "SuDdkB0nq3SW"
   },
   "outputs": [],
   "source": [
    "deck_info = []\n",
    "\n",
    "import concurrent.futures \n",
    "with concurrent.futures.ThreadPoolExecutor(max_workers=30) as executor:\n",
    "    # Start the load operations and mark each future with its URL\n",
    "    future_to_url = {executor.submit(get_deck_info, url): url for url in deck_urls}\n",
    "    for future in concurrent.futures.as_completed(future_to_url):\n",
    "        url = future_to_url[future]\n",
    "        try:\n",
    "            data = future.result()\n",
    "            deck_info.append(data)\n",
    "        except Exception as exc:\n",
    "            print('%r generated an exception: %s' % (url, exc))"
   ]
  },
  {
   "cell_type": "code",
   "execution_count": 123,
   "metadata": {
    "colab": {
     "base_uri": "https://localhost:8080/",
     "height": 552
    },
    "colab_type": "code",
    "id": "9hAZllc7rqWk",
    "outputId": "38e44945-fe38-476c-8e13-567f63dc1989"
   },
   "outputs": [],
   "source": [
    "deck_info\n",
    "df = pd.DataFrame(deck_info)\n",
    "df.columns = [\"Deck Name\",\"URL\",\"Player\",\"Card Kingdom\", \"TCG Player\", \"Manatraders\", \"Cardhoarder\"]\n",
    "for c in df.columns:\n",
    "    data_types = set(df[c].apply(type))\n",
    "\n",
    "f = []\n",
    "for each in range(len(df)):\n",
    "    f.append(format_name)\n",
    "    \n",
    "df['Format'] = f"
   ]
  },
  {
   "cell_type": "code",
   "execution_count": 124,
   "metadata": {},
   "outputs": [],
   "source": [
    "avgPrice = []\n",
    "for each in range(len(df)):\n",
    "    local_df = df.iloc[each]\n",
    "    avgPrice.append(get_avg_price(local_df['Card Kingdom'] + local_df['TCG Player'] + local_df['Cardhoarder'],local_df['Format']))\n",
    "    \n",
    "df['Avg. Card Price'] = avgPrice\n",
    "df.groupby('Format').mean()"
   ]
  },
  {
   "cell_type": "code",
   "execution_count": 74,
   "metadata": {},
   "outputs": [],
   "source": [
    "big_df = pd.concat(dfs)"
   ]
  },
  {
   "cell_type": "code",
   "execution_count": 26,
   "metadata": {},
   "outputs": [],
   "source": [
    "# compression_opts = dict(method='zip', archive_name='out.csv')  \n",
    "\n",
    "# df.to_csv('out.zip', index=False, compression=compression_opts)  \n",
    "\n",
    "file_name = format_name + \".csv\"\n",
    "df.to_csv(file_name, index=False)  "
   ]
  },
  {
   "cell_type": "code",
   "execution_count": 13,
   "metadata": {
    "colab": {
     "base_uri": "https://localhost:8080/",
     "height": 374
    },
    "colab_type": "code",
    "id": "N-0Cv-dSgTH4",
    "outputId": "f6e2632d-1b72-4791-8f46-d0e914e764e3"
   },
   "outputs": [
    {
     "ename": "NameError",
     "evalue": "name 'p' is not defined",
     "output_type": "error",
     "traceback": [
      "\u001b[0;31m---------------------------------------------------------------------------\u001b[0m",
      "\u001b[0;31mNameError\u001b[0m                                 Traceback (most recent call last)",
      "\u001b[0;32m<ipython-input-13-aa767a281483>\u001b[0m in \u001b[0;36m<module>\u001b[0;34m\u001b[0m\n\u001b[1;32m      7\u001b[0m \u001b[0;34m\u001b[0m\u001b[0m\n\u001b[1;32m      8\u001b[0m \u001b[0;34m\u001b[0m\u001b[0m\n\u001b[0;32m----> 9\u001b[0;31m     \u001b[0mplayer_name\u001b[0m \u001b[0;34m=\u001b[0m \u001b[0mp\u001b[0m\u001b[0;34m[\u001b[0m\u001b[0;36m1\u001b[0m\u001b[0;34m]\u001b[0m\u001b[0;34m\u001b[0m\u001b[0;34m\u001b[0m\u001b[0m\n\u001b[0m\u001b[1;32m     10\u001b[0m     \u001b[0mplacement\u001b[0m \u001b[0;34m=\u001b[0m \u001b[0mre\u001b[0m\u001b[0;34m.\u001b[0m\u001b[0msplit\u001b[0m\u001b[0;34m(\u001b[0m\u001b[0;34m'#'\u001b[0m\u001b[0;34m,\u001b[0m\u001b[0mp\u001b[0m\u001b[0;34m[\u001b[0m\u001b[0;36m0\u001b[0m\u001b[0;34m]\u001b[0m\u001b[0;34m)\u001b[0m\u001b[0;34m[\u001b[0m\u001b[0;36m1\u001b[0m\u001b[0;34m]\u001b[0m\u001b[0;34m[\u001b[0m\u001b[0;36m0\u001b[0m\u001b[0;34m]\u001b[0m\u001b[0;34m\u001b[0m\u001b[0;34m\u001b[0m\u001b[0m\n\u001b[1;32m     11\u001b[0m     \u001b[0mcards\u001b[0m \u001b[0;34m=\u001b[0m \u001b[0;34m[\u001b[0m\u001b[0;34m]\u001b[0m\u001b[0;34m\u001b[0m\u001b[0;34m\u001b[0m\u001b[0m\n",
      "\u001b[0;31mNameError\u001b[0m: name 'p' is not defined"
     ]
    }
   ],
   "source": [
    "# data = pd.DataFrame()\n",
    "# things = []\n",
    "# csv = \"Deck,Player,Placement,Card \\n\"\n",
    "\n",
    "# for link in deck_urls:\n",
    "#     get_deck_info(link)\n",
    "\n",
    "\n",
    "#     player_name = p[1]\n",
    "#     placement = re.split('#',p[0])[1][0]\n",
    "#     cards = []\n",
    "#     colors = []\n",
    "#     for each in c:\n",
    "#         e = each.text\n",
    "#         cards.append(each.text)\n",
    "# #         print(e)\n",
    "# #         card_colors = get_colors(e)\n",
    "# #         colors.append(card_colors)\n",
    "        \n",
    "#     for i in range(len(cards)):\n",
    "# #         csv = csv + deck + \",\" + player + \",\" + placement + \",\" + cards[i]+ \",\" + colors[i] + \"\\n\"\n",
    "           \n",
    "#       things.append((deck,player,placement,cards[i]))\n",
    "            \n",
    "# # f= open(\"data.csv\",\"w+\")\n",
    "# # f.write(csv)\n",
    "# # f.close"
   ]
  },
  {
   "cell_type": "code",
   "execution_count": null,
   "metadata": {
    "colab": {},
    "colab_type": "code",
    "id": "s_PwzVTMPIrR"
   },
   "outputs": [],
   "source": []
  }
 ],
 "metadata": {
  "colab": {
   "collapsed_sections": [],
   "name": "MTGTop8_Scrape.ipynb",
   "provenance": []
  },
  "kernelspec": {
   "display_name": "Python 3",
   "language": "python",
   "name": "python3"
  },
  "language_info": {
   "codemirror_mode": {
    "name": "ipython",
    "version": 3
   },
   "file_extension": ".py",
   "mimetype": "text/x-python",
   "name": "python",
   "nbconvert_exporter": "python",
   "pygments_lexer": "ipython3",
   "version": "3.8.2"
  }
 },
 "nbformat": 4,
 "nbformat_minor": 4
}
