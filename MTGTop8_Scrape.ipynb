{
 "cells": [
  {
   "cell_type": "code",
   "execution_count": 2,
   "metadata": {
    "colab": {},
    "colab_type": "code",
    "id": "sMM9Q5-sfw98"
   },
   "outputs": [],
   "source": [
    "from bs4 import BeautifulSoup as bs\n",
    "import re\n",
    "import pandas as pd\n",
    "import networkx as nx\n",
    "import requests\n",
    "import json\n",
    "\n",
    "import os"
   ]
  },
  {
   "cell_type": "code",
   "execution_count": 4,
   "metadata": {
    "colab": {
     "base_uri": "https://localhost:8080/",
     "height": 36
    },
    "colab_type": "code",
    "id": "gy-ad9UrUCxB",
    "outputId": "03500b1a-cfce-44e9-fcb4-362c0e933714"
   },
   "outputs": [
    {
     "data": {
      "text/plain": [
       "\"['U']\""
      ]
     },
     "execution_count": 4,
     "metadata": {},
     "output_type": "execute_result"
    }
   ],
   "source": [
    "def get_colors(r):\n",
    "  d = requests.get('http://api.scryfall.com/cards/named?fuzzy=' + str(r.replace(' ','+')))\n",
    "  j = json.loads(d.text)\n",
    "\n",
    "  if j['color_identity'] == []:\n",
    "    return('None')\n",
    "  else:\n",
    "    return(str(j['color_identity']))\n",
    " \n",
    "def get_deck_info(deck_url):\n",
    "  page = requests.get(deck_url)\n",
    "  soup = bs(page.content, 'lxml')  \n",
    "  title = soup.find(\"td\", attrs={'class':'S16'}).contents\n",
    "\n",
    "  deck_name = re.split(\"#\\d{1,2}(?:-\\d)*\",title[0])[1].split(\" - \")[0].strip()\n",
    "  player_name = title[1].text.strip()\n",
    "\n",
    "  # # Get Prices\n",
    "  prices = soup.find_all(\"span\", attrs={'class':'O14'})\n",
    "  price_breakout = [x.text for x in prices]\n",
    "  return([deck_name,deck_url, player_name,int(price_breakout[0]),int(price_breakout[1]),float(price_breakout[2]),int(price_breakout[3])])  \n",
    "\n",
    "# get_deck_info('http://www.mtgtop8.com/event?e=19361&d=323216&f=PAU')\n",
    "\n",
    "get_colors('Delver of Secrets')"
   ]
  },
  {
   "cell_type": "code",
   "execution_count": 16,
   "metadata": {
    "colab": {
     "base_uri": "https://localhost:8080/",
     "height": 35
    },
    "colab_type": "code",
    "id": "LrgwUHmTgKDX",
    "outputId": "10cca771-993d-447f-9835-e6a635a85447"
   },
   "outputs": [
    {
     "data": {
      "text/plain": [
       "61"
      ]
     },
     "execution_count": 16,
     "metadata": {},
     "output_type": "execute_result"
    }
   ],
   "source": [
    "archetypes_URL = []\n",
    "archetype_Names = []\n",
    "\n",
    "# get Decks\n",
    "formats = ['MO','ST',\"PI\",'PAU',\"EDH\"]\n",
    "\n",
    "url = 'http://www.mtgtop8.com/format?f='+ formats[0]\n",
    "page = requests.get(url)\n",
    "soup = bs(page.content, 'html.parser')\n",
    "for link in soup.find_all('a'):\n",
    "    l = link.get('href')\n",
    "    if 'archetype' in l:\n",
    "        archetypes_URL.append('http://www.mtgtop8.com/' + link.get('href'))\n",
    "        archetype_Names.append(link.text)\n",
    "len(archetypes_URL)"
   ]
  },
  {
   "cell_type": "code",
   "execution_count": 17,
   "metadata": {
    "colab": {
     "base_uri": "https://localhost:8080/",
     "height": 35
    },
    "colab_type": "code",
    "id": "24J2OqWagRnD",
    "outputId": "c0001abf-dc43-494d-a89e-9a851173182b"
   },
   "outputs": [
    {
     "data": {
      "text/plain": [
       "468"
      ]
     },
     "execution_count": 17,
     "metadata": {},
     "output_type": "execute_result"
    }
   ],
   "source": [
    "deck_urls = []\n",
    "for each in archetypes_URL:\n",
    "    url = each\n",
    "    page = requests.get(url)\n",
    "    soup = bs(page.content, 'html.parser')\n",
    "    links = soup.find_all('a')\n",
    "    for l in links:\n",
    "        q = l.get('href')\n",
    "        if '&d' in q:\n",
    "            deck_urls.append('http://www.mtgtop8.com/' + q)\n",
    "len(deck_urls)"
   ]
  },
  {
   "cell_type": "code",
   "execution_count": 18,
   "metadata": {
    "colab": {},
    "colab_type": "code",
    "id": "1hHX1HE1kQBv"
   },
   "outputs": [],
   "source": []
  },
  {
   "cell_type": "code",
   "execution_count": 19,
   "metadata": {
    "colab": {},
    "colab_type": "code",
    "id": "SuDdkB0nq3SW"
   },
   "outputs": [],
   "source": [
    "import concurrent.futures \n",
    "deck_info = []\n",
    "with concurrent.futures.ThreadPoolExecutor(max_workers=30) as executor:\n",
    "    # Start the load operations and mark each future with its URL\n",
    "    future_to_url = {executor.submit(get_deck_info, url): url for url in deck_urls}\n",
    "    for future in concurrent.futures.as_completed(future_to_url):\n",
    "        url = future_to_url[future]\n",
    "        try:\n",
    "            data = future.result()\n",
    "            deck_info.append(data)\n",
    "        except Exception as exc:\n",
    "            print('%r generated an exception: %s' % (url, exc))"
   ]
  },
  {
   "cell_type": "code",
   "execution_count": 20,
   "metadata": {
    "colab": {
     "base_uri": "https://localhost:8080/",
     "height": 552
    },
    "colab_type": "code",
    "id": "9hAZllc7rqWk",
    "outputId": "38e44945-fe38-476c-8e13-567f63dc1989"
   },
   "outputs": [
    {
     "name": "stdout",
     "output_type": "stream",
     "text": [
      "Deck Name {<class 'str'>}\n",
      "URL {<class 'str'>}\n",
      "Player {<class 'str'>}\n",
      "Card Kingdom {<class 'int'>}\n",
      "TCG Player {<class 'int'>}\n",
      "Manatraders {<class 'float'>}\n",
      "Cardhoarder {<class 'int'>}\n"
     ]
    },
    {
     "data": {
      "text/html": [
       "<div>\n",
       "<style scoped>\n",
       "    .dataframe tbody tr th:only-of-type {\n",
       "        vertical-align: middle;\n",
       "    }\n",
       "\n",
       "    .dataframe tbody tr th {\n",
       "        vertical-align: top;\n",
       "    }\n",
       "\n",
       "    .dataframe thead th {\n",
       "        text-align: right;\n",
       "    }\n",
       "</style>\n",
       "<table border=\"1\" class=\"dataframe\">\n",
       "  <thead>\n",
       "    <tr style=\"text-align: right;\">\n",
       "      <th></th>\n",
       "      <th>Deck Name</th>\n",
       "      <th>URL</th>\n",
       "      <th>Player</th>\n",
       "      <th>Card Kingdom</th>\n",
       "      <th>TCG Player</th>\n",
       "      <th>Manatraders</th>\n",
       "      <th>Cardhoarder</th>\n",
       "    </tr>\n",
       "  </thead>\n",
       "  <tbody>\n",
       "    <tr>\n",
       "      <th>0</th>\n",
       "      <td>Red Deck Wins</td>\n",
       "      <td>http://www.mtgtop8.com/event?e=27330&amp;d=416574&amp;...</td>\n",
       "      <td>pootisgodsamongus</td>\n",
       "      <td>173</td>\n",
       "      <td>597</td>\n",
       "      <td>34.95</td>\n",
       "      <td>342</td>\n",
       "    </tr>\n",
       "    <tr>\n",
       "      <th>1</th>\n",
       "      <td>Jund</td>\n",
       "      <td>http://www.mtgtop8.com/event?e=27421&amp;d=417722&amp;...</td>\n",
       "      <td>Joe Chaney</td>\n",
       "      <td>1366</td>\n",
       "      <td>1677</td>\n",
       "      <td>59.95</td>\n",
       "      <td>545</td>\n",
       "    </tr>\n",
       "    <tr>\n",
       "      <th>2</th>\n",
       "      <td>Burn</td>\n",
       "      <td>http://www.mtgtop8.com/event?e=27296&amp;d=416188&amp;...</td>\n",
       "      <td>Boin</td>\n",
       "      <td>440</td>\n",
       "      <td>722</td>\n",
       "      <td>34.95</td>\n",
       "      <td>153</td>\n",
       "    </tr>\n",
       "    <tr>\n",
       "      <th>3</th>\n",
       "      <td>Red Deck Wins</td>\n",
       "      <td>http://www.mtgtop8.com/event?e=27209&amp;d=414098&amp;...</td>\n",
       "      <td>The_nayr</td>\n",
       "      <td>185</td>\n",
       "      <td>613</td>\n",
       "      <td>34.95</td>\n",
       "      <td>353</td>\n",
       "    </tr>\n",
       "    <tr>\n",
       "      <th>4</th>\n",
       "      <td>Jund</td>\n",
       "      <td>http://www.mtgtop8.com/event?e=27257&amp;d=414575&amp;...</td>\n",
       "      <td>liuyuchen</td>\n",
       "      <td>1343</td>\n",
       "      <td>1724</td>\n",
       "      <td>59.95</td>\n",
       "      <td>554</td>\n",
       "    </tr>\n",
       "    <tr>\n",
       "      <th>...</th>\n",
       "      <td>...</td>\n",
       "      <td>...</td>\n",
       "      <td>...</td>\n",
       "      <td>...</td>\n",
       "      <td>...</td>\n",
       "      <td>...</td>\n",
       "      <td>...</td>\n",
       "    </tr>\n",
       "    <tr>\n",
       "      <th>463</th>\n",
       "      <td>Give Tokens</td>\n",
       "      <td>http://www.mtgtop8.com/event?e=27198&amp;d=413998&amp;...</td>\n",
       "      <td>Tanida Yoshiyuki</td>\n",
       "      <td>746</td>\n",
       "      <td>868</td>\n",
       "      <td>59.95</td>\n",
       "      <td>411</td>\n",
       "    </tr>\n",
       "    <tr>\n",
       "      <th>464</th>\n",
       "      <td>Jeskai Ascendancy</td>\n",
       "      <td>http://www.mtgtop8.com/event?e=27135&amp;d=413446&amp;...</td>\n",
       "      <td>Takahashi Masato</td>\n",
       "      <td>520</td>\n",
       "      <td>1492</td>\n",
       "      <td>34.95</td>\n",
       "      <td>203</td>\n",
       "    </tr>\n",
       "    <tr>\n",
       "      <th>465</th>\n",
       "      <td>Living End</td>\n",
       "      <td>http://www.mtgtop8.com/event?e=27017&amp;d=411719&amp;...</td>\n",
       "      <td>Nagata Akira</td>\n",
       "      <td>396</td>\n",
       "      <td>532</td>\n",
       "      <td>34.95</td>\n",
       "      <td>239</td>\n",
       "    </tr>\n",
       "    <tr>\n",
       "      <th>466</th>\n",
       "      <td>Allosaurus Combo</td>\n",
       "      <td>http://www.mtgtop8.com/event?e=26833&amp;d=408548&amp;...</td>\n",
       "      <td>Handou Shinnosuke</td>\n",
       "      <td>489</td>\n",
       "      <td>533</td>\n",
       "      <td>59.95</td>\n",
       "      <td>434</td>\n",
       "    </tr>\n",
       "    <tr>\n",
       "      <th>467</th>\n",
       "      <td>Give tokens</td>\n",
       "      <td>http://www.mtgtop8.com/event?e=26679&amp;d=406569&amp;...</td>\n",
       "      <td>Tanida Yoshiyuki</td>\n",
       "      <td>715</td>\n",
       "      <td>834</td>\n",
       "      <td>34.95</td>\n",
       "      <td>337</td>\n",
       "    </tr>\n",
       "  </tbody>\n",
       "</table>\n",
       "<p>468 rows × 7 columns</p>\n",
       "</div>"
      ],
      "text/plain": [
       "             Deck Name                                                URL  \\\n",
       "0        Red Deck Wins  http://www.mtgtop8.com/event?e=27330&d=416574&...   \n",
       "1                 Jund  http://www.mtgtop8.com/event?e=27421&d=417722&...   \n",
       "2                 Burn  http://www.mtgtop8.com/event?e=27296&d=416188&...   \n",
       "3        Red Deck Wins  http://www.mtgtop8.com/event?e=27209&d=414098&...   \n",
       "4                 Jund  http://www.mtgtop8.com/event?e=27257&d=414575&...   \n",
       "..                 ...                                                ...   \n",
       "463        Give Tokens  http://www.mtgtop8.com/event?e=27198&d=413998&...   \n",
       "464  Jeskai Ascendancy  http://www.mtgtop8.com/event?e=27135&d=413446&...   \n",
       "465         Living End  http://www.mtgtop8.com/event?e=27017&d=411719&...   \n",
       "466   Allosaurus Combo  http://www.mtgtop8.com/event?e=26833&d=408548&...   \n",
       "467        Give tokens  http://www.mtgtop8.com/event?e=26679&d=406569&...   \n",
       "\n",
       "                Player  Card Kingdom  TCG Player  Manatraders  Cardhoarder  \n",
       "0    pootisgodsamongus           173         597        34.95          342  \n",
       "1           Joe Chaney          1366        1677        59.95          545  \n",
       "2                 Boin           440         722        34.95          153  \n",
       "3             The_nayr           185         613        34.95          353  \n",
       "4            liuyuchen          1343        1724        59.95          554  \n",
       "..                 ...           ...         ...          ...          ...  \n",
       "463   Tanida Yoshiyuki           746         868        59.95          411  \n",
       "464   Takahashi Masato           520        1492        34.95          203  \n",
       "465       Nagata Akira           396         532        34.95          239  \n",
       "466  Handou Shinnosuke           489         533        59.95          434  \n",
       "467   Tanida Yoshiyuki           715         834        34.95          337  \n",
       "\n",
       "[468 rows x 7 columns]"
      ]
     },
     "execution_count": 20,
     "metadata": {},
     "output_type": "execute_result"
    }
   ],
   "source": [
    "deck_info\n",
    "df = pd.DataFrame(deck_info)\n",
    "df.columns = [\"Deck Name\",\"URL\",\"Player\",\"Card Kingdom\", \"TCG Player\", \"Manatraders\", \"Cardhoarder\"]\n",
    "for c in df.columns:\n",
    "  data_types = set(df[c].apply(type))\n",
    "  print(c, data_types)\n",
    "df"
   ]
  },
  {
   "cell_type": "code",
   "execution_count": 21,
   "metadata": {
    "colab": {
     "base_uri": "https://localhost:8080/",
     "height": 274
    },
    "colab_type": "code",
    "id": "np4gYHxo0Qwh",
    "outputId": "ea653717-02ce-4845-b7e8-a65e531a5300"
   },
   "outputs": [],
   "source": [
    "a = df.sort_values('Cardhoarder', ascending=True)"
   ]
  },
  {
   "cell_type": "code",
   "execution_count": 22,
   "metadata": {
    "colab": {
     "base_uri": "https://localhost:8080/",
     "height": 112
    },
    "colab_type": "code",
    "id": "3aV0KFmix45u",
    "outputId": "8b311a47-b07b-429f-d56f-aab1637e2147"
   },
   "outputs": [
    {
     "data": {
      "text/html": [
       "<div>\n",
       "<style scoped>\n",
       "    .dataframe tbody tr th:only-of-type {\n",
       "        vertical-align: middle;\n",
       "    }\n",
       "\n",
       "    .dataframe tbody tr th {\n",
       "        vertical-align: top;\n",
       "    }\n",
       "\n",
       "    .dataframe thead th {\n",
       "        text-align: right;\n",
       "    }\n",
       "</style>\n",
       "<table border=\"1\" class=\"dataframe\">\n",
       "  <thead>\n",
       "    <tr style=\"text-align: right;\">\n",
       "      <th></th>\n",
       "      <th>Deck Name</th>\n",
       "      <th>URL</th>\n",
       "      <th>Player</th>\n",
       "      <th>Card Kingdom</th>\n",
       "      <th>TCG Player</th>\n",
       "      <th>Manatraders</th>\n",
       "      <th>Cardhoarder</th>\n",
       "    </tr>\n",
       "  </thead>\n",
       "  <tbody>\n",
       "  </tbody>\n",
       "</table>\n",
       "</div>"
      ],
      "text/plain": [
       "Empty DataFrame\n",
       "Columns: [Deck Name, URL, Player, Card Kingdom, TCG Player, Manatraders, Cardhoarder]\n",
       "Index: []"
      ]
     },
     "execution_count": 22,
     "metadata": {},
     "output_type": "execute_result"
    }
   ],
   "source": [
    "df[df['TCG Player']<100]"
   ]
  },
  {
   "cell_type": "code",
   "execution_count": 13,
   "metadata": {
    "colab": {
     "base_uri": "https://localhost:8080/",
     "height": 374
    },
    "colab_type": "code",
    "collapsed": true,
    "id": "N-0Cv-dSgTH4",
    "jupyter": {
     "outputs_hidden": true,
     "source_hidden": true
    },
    "outputId": "f6e2632d-1b72-4791-8f46-d0e914e764e3"
   },
   "outputs": [
    {
     "ename": "NameError",
     "evalue": "name 'p' is not defined",
     "output_type": "error",
     "traceback": [
      "\u001b[0;31m---------------------------------------------------------------------------\u001b[0m",
      "\u001b[0;31mNameError\u001b[0m                                 Traceback (most recent call last)",
      "\u001b[0;32m<ipython-input-13-aa767a281483>\u001b[0m in \u001b[0;36m<module>\u001b[0;34m\u001b[0m\n\u001b[1;32m      7\u001b[0m \u001b[0;34m\u001b[0m\u001b[0m\n\u001b[1;32m      8\u001b[0m \u001b[0;34m\u001b[0m\u001b[0m\n\u001b[0;32m----> 9\u001b[0;31m     \u001b[0mplayer_name\u001b[0m \u001b[0;34m=\u001b[0m \u001b[0mp\u001b[0m\u001b[0;34m[\u001b[0m\u001b[0;36m1\u001b[0m\u001b[0;34m]\u001b[0m\u001b[0;34m\u001b[0m\u001b[0;34m\u001b[0m\u001b[0m\n\u001b[0m\u001b[1;32m     10\u001b[0m     \u001b[0mplacement\u001b[0m \u001b[0;34m=\u001b[0m \u001b[0mre\u001b[0m\u001b[0;34m.\u001b[0m\u001b[0msplit\u001b[0m\u001b[0;34m(\u001b[0m\u001b[0;34m'#'\u001b[0m\u001b[0;34m,\u001b[0m\u001b[0mp\u001b[0m\u001b[0;34m[\u001b[0m\u001b[0;36m0\u001b[0m\u001b[0;34m]\u001b[0m\u001b[0;34m)\u001b[0m\u001b[0;34m[\u001b[0m\u001b[0;36m1\u001b[0m\u001b[0;34m]\u001b[0m\u001b[0;34m[\u001b[0m\u001b[0;36m0\u001b[0m\u001b[0;34m]\u001b[0m\u001b[0;34m\u001b[0m\u001b[0;34m\u001b[0m\u001b[0m\n\u001b[1;32m     11\u001b[0m     \u001b[0mcards\u001b[0m \u001b[0;34m=\u001b[0m \u001b[0;34m[\u001b[0m\u001b[0;34m]\u001b[0m\u001b[0;34m\u001b[0m\u001b[0;34m\u001b[0m\u001b[0m\n",
      "\u001b[0;31mNameError\u001b[0m: name 'p' is not defined"
     ]
    }
   ],
   "source": [
    "data = pd.DataFrame()\n",
    "things = []\n",
    "csv = \"Deck,Player,Placement,Card \\n\"\n",
    "\n",
    "for link in deck_urls:\n",
    "    get_deck_info(link)\n",
    "\n",
    "\n",
    "    player_name = p[1]\n",
    "    placement = re.split('#',p[0])[1][0]\n",
    "    cards = []\n",
    "    colors = []\n",
    "    for each in c:\n",
    "        e = each.text\n",
    "        cards.append(each.text)\n",
    "#         print(e)\n",
    "#         card_colors = get_colors(e)\n",
    "#         colors.append(card_colors)\n",
    "        \n",
    "    for i in range(len(cards)):\n",
    "#         csv = csv + deck + \",\" + player + \",\" + placement + \",\" + cards[i]+ \",\" + colors[i] + \"\\n\"\n",
    "           \n",
    "      things.append((deck,player,placement,cards[i]))\n",
    "            \n",
    "# f= open(\"data.csv\",\"w+\")\n",
    "# f.write(csv)\n",
    "# f.close"
   ]
  },
  {
   "cell_type": "code",
   "execution_count": null,
   "metadata": {
    "colab": {
     "base_uri": "https://localhost:8080/",
     "height": 206
    },
    "colab_type": "code",
    "id": "28kbqpLWg4It",
    "jupyter": {
     "source_hidden": true
    },
    "outputId": "fa9d71e8-7f47-49e9-a55d-5d3689d90d27"
   },
   "outputs": [],
   "source": [
    "data = pd.DataFrame(things, columns=['Deck','Player','Placement','Card Name'])\n",
    "data.head()"
   ]
  },
  {
   "cell_type": "code",
   "execution_count": null,
   "metadata": {
    "colab": {},
    "colab_type": "code",
    "id": "EYsmdqNcNE76",
    "jupyter": {
     "source_hidden": true
    }
   },
   "outputs": [],
   "source": [
    "  r = 'Delver of Secrets'\n",
    "  d = requests.get('https://api.scryfall.com/cards/named?fuzzy=' + str(r.replace(' ','+')))\n",
    "  j = json.loads(d.text)\n",
    "\n",
    "  j\n",
    "  \n",
    "#   if j['colors'] == []:\n",
    "#     return('None')\n",
    "#   else:\n",
    "#     return(str(j['colors']))\n",
    "\n",
    "\n",
    "  "
   ]
  },
  {
   "cell_type": "code",
   "execution_count": null,
   "metadata": {
    "colab": {},
    "colab_type": "code",
    "id": "s_PwzVTMPIrR"
   },
   "outputs": [],
   "source": []
  }
 ],
 "metadata": {
  "colab": {
   "collapsed_sections": [],
   "name": "MTGTop8_Scrape.ipynb",
   "provenance": []
  },
  "kernelspec": {
   "display_name": "Python 3",
   "language": "python",
   "name": "python3"
  },
  "language_info": {
   "codemirror_mode": {
    "name": "ipython",
    "version": 3
   },
   "file_extension": ".py",
   "mimetype": "text/x-python",
   "name": "python",
   "nbconvert_exporter": "python",
   "pygments_lexer": "ipython3",
   "version": "3.6.9"
  }
 },
 "nbformat": 4,
 "nbformat_minor": 4
}
