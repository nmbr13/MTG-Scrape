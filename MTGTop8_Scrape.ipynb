{
 "cells": [
  {
   "cell_type": "code",
   "execution_count": 65,
   "metadata": {
    "colab": {},
    "colab_type": "code",
    "id": "sMM9Q5-sfw98"
   },
   "outputs": [],
   "source": [
    "from bs4 import BeautifulSoup as bs\n",
    "import re\n",
    "import pandas as pd\n",
    "import networkx as nx\n",
    "import requests\n",
    "import json\n",
    "\n",
    "import os"
   ]
  },
  {
   "cell_type": "code",
   "execution_count": 66,
   "metadata": {},
   "outputs": [],
   "source": [
    "dfs = []"
   ]
  },
  {
   "cell_type": "code",
   "execution_count": 67,
   "metadata": {
    "colab": {
     "base_uri": "https://localhost:8080/",
     "height": 36
    },
    "colab_type": "code",
    "id": "gy-ad9UrUCxB",
    "jupyter": {
     "source_hidden": true
    },
    "outputId": "03500b1a-cfce-44e9-fcb4-362c0e933714"
   },
   "outputs": [],
   "source": [
    "def get_colors(r):\n",
    "  d = requests.get('http://api.scryfall.com/cards/named?fuzzy=' + str(r.replace(' ','+')))\n",
    "  j = json.loads(d.text)\n",
    "\n",
    "  if j['color_identity'] == []:\n",
    "    return('None')\n",
    "  else:\n",
    "    return(str(j['color_identity']))\n",
    " \n",
    "def get_deck_info(deck_url):\n",
    "  page = requests.get(deck_url)\n",
    "  soup = bs(page.content, 'lxml')  \n",
    "  title = soup.find(\"td\", attrs={'class':'S16'}).contents\n",
    "\n",
    "  deck_name = re.split(\"#\\d{1,2}(?:-\\d)*\",title[0])[1].split(\" - \")[0].strip()\n",
    "  player_name = title[1].text.strip()\n",
    "\n",
    "  # # Get Prices\n",
    "  prices = soup.find_all(\"span\", attrs={'class':'O14'})\n",
    "  price_breakout = [x.text for x in prices]\n",
    "  return([deck_name,deck_url, player_name,int(price_breakout[0]),int(price_breakout[1]),float(price_breakout[2]),int(price_breakout[3])])  \n",
    "\n",
    "def get_decks(list):\n",
    "    deck_list = []\n",
    "    for each in list:\n",
    "        url = each\n",
    "        page = requests.get(url)\n",
    "        soup = bs(page.content, 'html.parser')\n",
    "        links = soup.find_all('a')\n",
    "        for l in links:\n",
    "            q = l.get('href')\n",
    "            if '&d' in q:\n",
    "                deck_list.append('http://www.mtgtop8.com/' + q)\n",
    "    return deck_list"
   ]
  },
  {
   "cell_type": "code",
   "execution_count": 68,
   "metadata": {
    "colab": {
     "base_uri": "https://localhost:8080/",
     "height": 35
    },
    "colab_type": "code",
    "id": "LrgwUHmTgKDX",
    "outputId": "10cca771-993d-447f-9835-e6a635a85447"
   },
   "outputs": [
    {
     "data": {
      "text/plain": [
       "61"
      ]
     },
     "execution_count": 68,
     "metadata": {},
     "output_type": "execute_result"
    }
   ],
   "source": [
    "# Get Decks\n",
    "formats = ['MO','ST',\"PI\",'PAU',\"EDH\"]\n",
    "archetypes_URL = []\n",
    "archetype_Names = []\n",
    "format_name = formats[0]\n",
    "url = 'http://www.mtgtop8.com/format?f='+ format_name\n",
    "page = requests.get(url)\n",
    "soup = bs(page.content, 'html.parser')\n",
    "for link in soup.find_all('a'):\n",
    "    l = link.get('href')\n",
    "    if 'archetype' in l:\n",
    "        archetypes_URL.append('http://www.mtgtop8.com/' + link.get('href'))\n",
    "        archetype_Names.append(link.text)\n",
    "len(archetypes_URL)"
   ]
  },
  {
   "cell_type": "code",
   "execution_count": 69,
   "metadata": {
    "colab": {
     "base_uri": "https://localhost:8080/",
     "height": 35
    },
    "colab_type": "code",
    "id": "24J2OqWagRnD",
    "outputId": "c0001abf-dc43-494d-a89e-9a851173182b"
   },
   "outputs": [
    {
     "name": "stdout",
     "output_type": "stream",
     "text": [
      "474\n"
     ]
    }
   ],
   "source": [
    "# for each in archetypes_URL:\n",
    "deck_urls = get_decks(archetypes_URL)\n",
    "print(len(deck_urls))"
   ]
  },
  {
   "cell_type": "code",
   "execution_count": 70,
   "metadata": {
    "colab": {},
    "colab_type": "code",
    "id": "SuDdkB0nq3SW"
   },
   "outputs": [],
   "source": [
    "deck_info = []\n",
    "\n",
    "import concurrent.futures \n",
    "with concurrent.futures.ThreadPoolExecutor(max_workers=30) as executor:\n",
    "    # Start the load operations and mark each future with its URL\n",
    "    future_to_url = {executor.submit(get_deck_info, url): url for url in deck_urls}\n",
    "    for future in concurrent.futures.as_completed(future_to_url):\n",
    "        url = future_to_url[future]\n",
    "        try:\n",
    "            data = future.result()\n",
    "            deck_info.append(data)\n",
    "        except Exception as exc:\n",
    "            print('%r generated an exception: %s' % (url, exc))"
   ]
  },
  {
   "cell_type": "code",
   "execution_count": 71,
   "metadata": {
    "colab": {
     "base_uri": "https://localhost:8080/",
     "height": 552
    },
    "colab_type": "code",
    "id": "9hAZllc7rqWk",
    "outputId": "38e44945-fe38-476c-8e13-567f63dc1989"
   },
   "outputs": [],
   "source": [
    "deck_info\n",
    "df = pd.DataFrame(deck_info)\n",
    "df.columns = [\"Deck Name\",\"URL\",\"Player\",\"Card Kingdom\", \"TCG Player\", \"Manatraders\", \"Cardhoarder\"]\n",
    "for c in df.columns:\n",
    "    data_types = set(df[c].apply(type))\n",
    "\n",
    "f = []\n",
    "for each in range(len(df)):\n",
    "    f.append(format_name)\n",
    "    \n",
    "df['Format'] = f\n",
    "\n",
    "dfs.append(df)"
   ]
  },
  {
   "cell_type": "code",
   "execution_count": 72,
   "metadata": {
    "colab": {
     "base_uri": "https://localhost:8080/",
     "height": 274
    },
    "colab_type": "code",
    "id": "np4gYHxo0Qwh",
    "outputId": "ea653717-02ce-4845-b7e8-a65e531a5300"
   },
   "outputs": [],
   "source": [
    "a = df.sort_values('Cardhoarder', ascending=True)"
   ]
  },
  {
   "cell_type": "code",
   "execution_count": 73,
   "metadata": {
    "colab": {
     "base_uri": "https://localhost:8080/",
     "height": 112
    },
    "colab_type": "code",
    "id": "3aV0KFmix45u",
    "outputId": "8b311a47-b07b-429f-d56f-aab1637e2147"
   },
   "outputs": [
    {
     "data": {
      "text/html": [
       "<div>\n",
       "<style scoped>\n",
       "    .dataframe tbody tr th:only-of-type {\n",
       "        vertical-align: middle;\n",
       "    }\n",
       "\n",
       "    .dataframe tbody tr th {\n",
       "        vertical-align: top;\n",
       "    }\n",
       "\n",
       "    .dataframe thead th {\n",
       "        text-align: right;\n",
       "    }\n",
       "</style>\n",
       "<table border=\"1\" class=\"dataframe\">\n",
       "  <thead>\n",
       "    <tr style=\"text-align: right;\">\n",
       "      <th></th>\n",
       "      <th>Deck Name</th>\n",
       "      <th>URL</th>\n",
       "      <th>Player</th>\n",
       "      <th>Card Kingdom</th>\n",
       "      <th>TCG Player</th>\n",
       "      <th>Manatraders</th>\n",
       "      <th>Cardhoarder</th>\n",
       "      <th>Format</th>\n",
       "    </tr>\n",
       "  </thead>\n",
       "  <tbody>\n",
       "    <tr>\n",
       "      <th>0</th>\n",
       "      <td>Red Deck Wins</td>\n",
       "      <td>http://www.mtgtop8.com/event?e=27330&amp;d=416574&amp;...</td>\n",
       "      <td>pootisgodsamongus</td>\n",
       "      <td>249</td>\n",
       "      <td>595</td>\n",
       "      <td>34.95</td>\n",
       "      <td>328</td>\n",
       "      <td>MO</td>\n",
       "    </tr>\n",
       "    <tr>\n",
       "      <th>1</th>\n",
       "      <td>Burn</td>\n",
       "      <td>http://www.mtgtop8.com/event?e=27296&amp;d=416188&amp;...</td>\n",
       "      <td>Boin</td>\n",
       "      <td>438</td>\n",
       "      <td>724</td>\n",
       "      <td>34.95</td>\n",
       "      <td>150</td>\n",
       "      <td>MO</td>\n",
       "    </tr>\n",
       "    <tr>\n",
       "      <th>2</th>\n",
       "      <td>Burn</td>\n",
       "      <td>http://www.mtgtop8.com/event?e=27437&amp;d=417897&amp;...</td>\n",
       "      <td>AbelMolto</td>\n",
       "      <td>521</td>\n",
       "      <td>933</td>\n",
       "      <td>34.95</td>\n",
       "      <td>118</td>\n",
       "      <td>MO</td>\n",
       "    </tr>\n",
       "    <tr>\n",
       "      <th>3</th>\n",
       "      <td>Burn</td>\n",
       "      <td>http://www.mtgtop8.com/event?e=27387&amp;d=417216&amp;...</td>\n",
       "      <td>Mamada Chikashi</td>\n",
       "      <td>479</td>\n",
       "      <td>792</td>\n",
       "      <td>34.95</td>\n",
       "      <td>137</td>\n",
       "      <td>MO</td>\n",
       "    </tr>\n",
       "    <tr>\n",
       "      <th>4</th>\n",
       "      <td>Red Deck Wins</td>\n",
       "      <td>http://www.mtgtop8.com/event?e=27410&amp;d=417514&amp;...</td>\n",
       "      <td>pootisgodsamongus</td>\n",
       "      <td>249</td>\n",
       "      <td>596</td>\n",
       "      <td>34.95</td>\n",
       "      <td>328</td>\n",
       "      <td>MO</td>\n",
       "    </tr>\n",
       "    <tr>\n",
       "      <th>...</th>\n",
       "      <td>...</td>\n",
       "      <td>...</td>\n",
       "      <td>...</td>\n",
       "      <td>...</td>\n",
       "      <td>...</td>\n",
       "      <td>...</td>\n",
       "      <td>...</td>\n",
       "      <td>...</td>\n",
       "    </tr>\n",
       "    <tr>\n",
       "      <th>469</th>\n",
       "      <td>Naya Through the Breach</td>\n",
       "      <td>http://www.mtgtop8.com/event?e=27212&amp;d=414112&amp;...</td>\n",
       "      <td>Yamanashi Takeshi</td>\n",
       "      <td>821</td>\n",
       "      <td>898</td>\n",
       "      <td>34.95</td>\n",
       "      <td>110</td>\n",
       "      <td>MO</td>\n",
       "    </tr>\n",
       "    <tr>\n",
       "      <th>470</th>\n",
       "      <td>Belcher</td>\n",
       "      <td>http://www.mtgtop8.com/event?e=27410&amp;d=417522&amp;...</td>\n",
       "      <td>SKK</td>\n",
       "      <td>574</td>\n",
       "      <td>623</td>\n",
       "      <td>34.95</td>\n",
       "      <td>215</td>\n",
       "      <td>MO</td>\n",
       "    </tr>\n",
       "    <tr>\n",
       "      <th>471</th>\n",
       "      <td>Dimir Inverter</td>\n",
       "      <td>http://www.mtgtop8.com/event?e=27341&amp;d=416781&amp;...</td>\n",
       "      <td>Shima Takuya</td>\n",
       "      <td>584</td>\n",
       "      <td>794</td>\n",
       "      <td>34.95</td>\n",
       "      <td>230</td>\n",
       "      <td>MO</td>\n",
       "    </tr>\n",
       "    <tr>\n",
       "      <th>472</th>\n",
       "      <td>Give Tokens</td>\n",
       "      <td>http://www.mtgtop8.com/event?e=27198&amp;d=413998&amp;...</td>\n",
       "      <td>Tanida Yoshiyuki</td>\n",
       "      <td>746</td>\n",
       "      <td>869</td>\n",
       "      <td>59.95</td>\n",
       "      <td>422</td>\n",
       "      <td>MO</td>\n",
       "    </tr>\n",
       "    <tr>\n",
       "      <th>473</th>\n",
       "      <td>Give tokens</td>\n",
       "      <td>http://www.mtgtop8.com/event?e=26679&amp;d=406569&amp;...</td>\n",
       "      <td>Tanida Yoshiyuki</td>\n",
       "      <td>714</td>\n",
       "      <td>836</td>\n",
       "      <td>34.95</td>\n",
       "      <td>345</td>\n",
       "      <td>MO</td>\n",
       "    </tr>\n",
       "  </tbody>\n",
       "</table>\n",
       "<p>287 rows × 8 columns</p>\n",
       "</div>"
      ],
      "text/plain": [
       "                   Deck Name  \\\n",
       "0              Red Deck Wins   \n",
       "1                       Burn   \n",
       "2                       Burn   \n",
       "3                       Burn   \n",
       "4              Red Deck Wins   \n",
       "..                       ...   \n",
       "469  Naya Through the Breach   \n",
       "470                  Belcher   \n",
       "471           Dimir Inverter   \n",
       "472              Give Tokens   \n",
       "473              Give tokens   \n",
       "\n",
       "                                                   URL             Player  \\\n",
       "0    http://www.mtgtop8.com/event?e=27330&d=416574&...  pootisgodsamongus   \n",
       "1    http://www.mtgtop8.com/event?e=27296&d=416188&...               Boin   \n",
       "2    http://www.mtgtop8.com/event?e=27437&d=417897&...          AbelMolto   \n",
       "3    http://www.mtgtop8.com/event?e=27387&d=417216&...    Mamada Chikashi   \n",
       "4    http://www.mtgtop8.com/event?e=27410&d=417514&...  pootisgodsamongus   \n",
       "..                                                 ...                ...   \n",
       "469  http://www.mtgtop8.com/event?e=27212&d=414112&...  Yamanashi Takeshi   \n",
       "470  http://www.mtgtop8.com/event?e=27410&d=417522&...                SKK   \n",
       "471  http://www.mtgtop8.com/event?e=27341&d=416781&...       Shima Takuya   \n",
       "472  http://www.mtgtop8.com/event?e=27198&d=413998&...   Tanida Yoshiyuki   \n",
       "473  http://www.mtgtop8.com/event?e=26679&d=406569&...   Tanida Yoshiyuki   \n",
       "\n",
       "     Card Kingdom  TCG Player  Manatraders  Cardhoarder Format  \n",
       "0             249         595        34.95          328     MO  \n",
       "1             438         724        34.95          150     MO  \n",
       "2             521         933        34.95          118     MO  \n",
       "3             479         792        34.95          137     MO  \n",
       "4             249         596        34.95          328     MO  \n",
       "..            ...         ...          ...          ...    ...  \n",
       "469           821         898        34.95          110     MO  \n",
       "470           574         623        34.95          215     MO  \n",
       "471           584         794        34.95          230     MO  \n",
       "472           746         869        59.95          422     MO  \n",
       "473           714         836        34.95          345     MO  \n",
       "\n",
       "[287 rows x 8 columns]"
      ]
     },
     "execution_count": 73,
     "metadata": {},
     "output_type": "execute_result"
    }
   ],
   "source": [
    "df[df['TCG Player']<1000]"
   ]
  },
  {
   "cell_type": "code",
   "execution_count": 74,
   "metadata": {},
   "outputs": [],
   "source": [
    "big_df = pd.concat(dfs)"
   ]
  },
  {
   "cell_type": "code",
   "execution_count": 26,
   "metadata": {},
   "outputs": [],
   "source": [
    "# compression_opts = dict(method='zip', archive_name='out.csv')  \n",
    "\n",
    "# df.to_csv('out.zip', index=False, compression=compression_opts)  \n",
    "\n",
    "file_name = format_name + \".csv\"\n",
    "df.to_csv(file_name, index=False)  "
   ]
  },
  {
   "cell_type": "code",
   "execution_count": 13,
   "metadata": {
    "colab": {
     "base_uri": "https://localhost:8080/",
     "height": 374
    },
    "colab_type": "code",
    "id": "N-0Cv-dSgTH4",
    "outputId": "f6e2632d-1b72-4791-8f46-d0e914e764e3"
   },
   "outputs": [
    {
     "ename": "NameError",
     "evalue": "name 'p' is not defined",
     "output_type": "error",
     "traceback": [
      "\u001b[0;31m---------------------------------------------------------------------------\u001b[0m",
      "\u001b[0;31mNameError\u001b[0m                                 Traceback (most recent call last)",
      "\u001b[0;32m<ipython-input-13-aa767a281483>\u001b[0m in \u001b[0;36m<module>\u001b[0;34m\u001b[0m\n\u001b[1;32m      7\u001b[0m \u001b[0;34m\u001b[0m\u001b[0m\n\u001b[1;32m      8\u001b[0m \u001b[0;34m\u001b[0m\u001b[0m\n\u001b[0;32m----> 9\u001b[0;31m     \u001b[0mplayer_name\u001b[0m \u001b[0;34m=\u001b[0m \u001b[0mp\u001b[0m\u001b[0;34m[\u001b[0m\u001b[0;36m1\u001b[0m\u001b[0;34m]\u001b[0m\u001b[0;34m\u001b[0m\u001b[0;34m\u001b[0m\u001b[0m\n\u001b[0m\u001b[1;32m     10\u001b[0m     \u001b[0mplacement\u001b[0m \u001b[0;34m=\u001b[0m \u001b[0mre\u001b[0m\u001b[0;34m.\u001b[0m\u001b[0msplit\u001b[0m\u001b[0;34m(\u001b[0m\u001b[0;34m'#'\u001b[0m\u001b[0;34m,\u001b[0m\u001b[0mp\u001b[0m\u001b[0;34m[\u001b[0m\u001b[0;36m0\u001b[0m\u001b[0;34m]\u001b[0m\u001b[0;34m)\u001b[0m\u001b[0;34m[\u001b[0m\u001b[0;36m1\u001b[0m\u001b[0;34m]\u001b[0m\u001b[0;34m[\u001b[0m\u001b[0;36m0\u001b[0m\u001b[0;34m]\u001b[0m\u001b[0;34m\u001b[0m\u001b[0;34m\u001b[0m\u001b[0m\n\u001b[1;32m     11\u001b[0m     \u001b[0mcards\u001b[0m \u001b[0;34m=\u001b[0m \u001b[0;34m[\u001b[0m\u001b[0;34m]\u001b[0m\u001b[0;34m\u001b[0m\u001b[0;34m\u001b[0m\u001b[0m\n",
      "\u001b[0;31mNameError\u001b[0m: name 'p' is not defined"
     ]
    }
   ],
   "source": [
    "# data = pd.DataFrame()\n",
    "# things = []\n",
    "# csv = \"Deck,Player,Placement,Card \\n\"\n",
    "\n",
    "# for link in deck_urls:\n",
    "#     get_deck_info(link)\n",
    "\n",
    "\n",
    "#     player_name = p[1]\n",
    "#     placement = re.split('#',p[0])[1][0]\n",
    "#     cards = []\n",
    "#     colors = []\n",
    "#     for each in c:\n",
    "#         e = each.text\n",
    "#         cards.append(each.text)\n",
    "# #         print(e)\n",
    "# #         card_colors = get_colors(e)\n",
    "# #         colors.append(card_colors)\n",
    "        \n",
    "#     for i in range(len(cards)):\n",
    "# #         csv = csv + deck + \",\" + player + \",\" + placement + \",\" + cards[i]+ \",\" + colors[i] + \"\\n\"\n",
    "           \n",
    "#       things.append((deck,player,placement,cards[i]))\n",
    "            \n",
    "# # f= open(\"data.csv\",\"w+\")\n",
    "# # f.write(csv)\n",
    "# # f.close"
   ]
  },
  {
   "cell_type": "code",
   "execution_count": null,
   "metadata": {
    "colab": {},
    "colab_type": "code",
    "id": "s_PwzVTMPIrR"
   },
   "outputs": [],
   "source": []
  }
 ],
 "metadata": {
  "colab": {
   "collapsed_sections": [],
   "name": "MTGTop8_Scrape.ipynb",
   "provenance": []
  },
  "kernelspec": {
   "display_name": "Python 3",
   "language": "python",
   "name": "python3"
  },
  "language_info": {
   "codemirror_mode": {
    "name": "ipython",
    "version": 3
   },
   "file_extension": ".py",
   "mimetype": "text/x-python",
   "name": "python",
   "nbconvert_exporter": "python",
   "pygments_lexer": "ipython3",
   "version": "3.6.9"
  }
 },
 "nbformat": 4,
 "nbformat_minor": 4
}
